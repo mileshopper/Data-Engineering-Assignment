{
 "cells": [
  {
   "cell_type": "markdown",
   "metadata": {},
   "source": [
    "# Data Engineer Programming Assignment\n",
    "We've provided a source file, btc.csv, which contains several years of Bitcoin pricing data.\n",
    "Please provide a solution which filters and summarises this data. The original pricing is in USD but\n",
    "as a European organisation we'd like to view summaries in Euros.\n",
    "There are three outputs expected\n",
    "##### 1. A new file with the past year's data\n",
    "##### 2. A short summary table to the standard output\n",
    "##### 3. A line chart of the past year's price\n",
    "\n",
    "\n",
    "## Summary File\n",
    "Please output a new csv file. The summary file should contain the following:\n",
    "\n",
    "##### Past year's data.    \n",
    "##### Columns: date, generatedCoins, paymentCount.    \n",
    "##### New Columns: marketcap(USD) & price(USD) converted to Euro.\n",
    "    \n",
    "The daily USD to EUR conversion rate can be assumed as 0.87 for this example.\n",
    "Please note that whenever we mention past year, we mean the past 365 days from the last data\n",
    "point's date in the csv file provided.\n",
    "\n",
    "## Summary Output\n",
    "Print the following on the standard output:\n",
    "###### Total coins generated in the past year.\n",
    "###### Min, max and mean for the following metrics in the past year:\n",
    "        - marketCap(EUR) in billions of euros.\n",
    "        - price(EUR)\n",
    "        - generatedCoins\n",
    "        - paymentCount\n",
    "\n",
    "## Line chart\n",
    "Plot a line-graph (export as an image file) of the Bitcoin price in the past year."
   ]
  },
  {
   "cell_type": "markdown",
   "metadata": {},
   "source": [
    "# Load Bitcoin Data into Pandas DataFrame"
   ]
  },
  {
   "cell_type": "code",
   "execution_count": 2,
   "metadata": {},
   "outputs": [
    {
     "name": "stdout",
     "output_type": "stream",
     "text": [
      "<bound method DataFrame.info of            date  marketcap(USD)  price(USD)  generatedCoins  paymentCount\n",
      "0    2009-01-09             NaN         NaN           700.0           NaN\n",
      "1    2009-01-10             NaN         NaN          3050.0           NaN\n",
      "2    2009-01-11             NaN         NaN          4650.0           NaN\n",
      "3    2009-01-12             NaN         NaN          4700.0           5.0\n",
      "4    2009-01-13             NaN         NaN          6150.0           NaN\n",
      "...         ...             ...         ...             ...           ...\n",
      "3549 2018-09-28    1.154895e+11     6678.75          1925.0      400405.0\n",
      "3550 2018-09-29    1.148857e+11     6643.10          1900.0      321741.0\n",
      "3551 2018-09-30    1.142344e+11     6604.71          2037.5      308326.0\n",
      "3552 2018-10-01    1.145097e+11     6619.85          1975.0      360525.0\n",
      "3553 2018-10-02    1.140626e+11     6593.24          1712.5      359131.0\n",
      "\n",
      "[3554 rows x 5 columns]>\n"
     ]
    }
   ],
   "source": [
    "# Import pandas as pd\n",
    "import pandas as pd\n",
    "\n",
    "# Define list of columns to read in\n",
    "col_names = ['date',\n",
    "            'marketcap(USD)',\n",
    "            'price(USD)',\n",
    "            'generatedCoins',\n",
    "            'paymentCount',\n",
    "            ]\n",
    "\n",
    "# Specify data types for each column\n",
    "dtypes = {'date': 'str',\n",
    "            'marketcap(USD)': 'float',\n",
    "            'price(USD)': 'float',\n",
    "            'generatedCoins': 'float',\n",
    "            'paymentCount': 'float',\n",
    "         }\n",
    "\n",
    "# Specify list of columns that need to be parsed as DateTime \n",
    "parse_dates = ['date']\n",
    "\n",
    "# Read the CSV and assign it to the variable data\n",
    "data = pd.read_csv(\"btc.csv\",\n",
    "                    usecols=col_names,\n",
    "                    error_bad_lines=False,\n",
    "                    warn_bad_lines=True,\n",
    "                    dtype=dtypes,\n",
    "                    parse_dates=parse_dates)\n",
    "\n",
    "print(data.info)"
   ]
  },
  {
   "cell_type": "code",
   "execution_count": 3,
   "metadata": {},
   "outputs": [
    {
     "name": "stdout",
     "output_type": "stream",
     "text": [
      "date              datetime64[ns]\n",
      "marketcap(USD)           float64\n",
      "price(USD)               float64\n",
      "generatedCoins           float64\n",
      "paymentCount             float64\n",
      "dtype: object\n"
     ]
    }
   ],
   "source": [
    "# Verify data types of each column\n",
    "print(data.dtypes)"
   ]
  },
  {
   "cell_type": "markdown",
   "metadata": {},
   "source": [
    "# Summary File"
   ]
  },
  {
   "cell_type": "markdown",
   "metadata": {},
   "source": [
    "## Filter Dataframe to extract data for last year"
   ]
  },
  {
   "cell_type": "code",
   "execution_count": 4,
   "metadata": {},
   "outputs": [
    {
     "name": "stdout",
     "output_type": "stream",
     "text": [
      "<bound method DataFrame.info of            date  marketcap(USD)  price(USD)  generatedCoins  paymentCount\n",
      "3188 2017-10-02    7.296319e+10     4395.81          1875.0      463964.0\n",
      "3189 2017-10-03    7.318133e+10     4408.46          2287.5      440833.0\n",
      "3190 2017-10-04    7.171252e+10     4319.37          1675.0      366423.0\n",
      "3191 2017-10-05    7.023369e+10     4229.88          1562.5      401676.0\n",
      "3192 2017-10-06    7.181061e+10     4324.46          1987.5      457187.0\n",
      "...         ...             ...         ...             ...           ...\n",
      "3549 2018-09-28    1.154895e+11     6678.75          1925.0      400405.0\n",
      "3550 2018-09-29    1.148857e+11     6643.10          1900.0      321741.0\n",
      "3551 2018-09-30    1.142344e+11     6604.71          2037.5      308326.0\n",
      "3552 2018-10-01    1.145097e+11     6619.85          1975.0      360525.0\n",
      "3553 2018-10-02    1.140626e+11     6593.24          1712.5      359131.0\n",
      "\n",
      "[366 rows x 5 columns]>\n"
     ]
    }
   ],
   "source": [
    "# Filter dataframe to extract data for last year\n",
    "dataLY = data[(data['date'] >= '2017-10-02') & (data['date'] <= '2018-10-02')]\n",
    "\n",
    "# Print info about filtered data frame to verify correct data extracted\n",
    "print(dataLY.info)"
   ]
  },
  {
   "cell_type": "markdown",
   "metadata": {},
   "source": [
    "## Convert USD to EUR"
   ]
  },
  {
   "cell_type": "code",
   "execution_count": 5,
   "metadata": {},
   "outputs": [],
   "source": [
    "# Disable warning about writing back to original dataframe\n",
    "pd.options.mode.chained_assignment = None  # default='warn'\n",
    "\n",
    "# Multiply marketcap(USD) and price(USD) columns by 0.87 to convert to Euros\n",
    "dataLY.loc[:,'marketcap(USD)']=dataLY.loc[:,'marketcap(USD)']*0.87\n",
    "dataLY.loc[:,'price(USD)']=dataLY.loc[:,'price(USD)']*0.87\n",
    "\n",
    "# Rename columns\n",
    "dataLY.rename(columns={'marketcap(USD)': 'marketcap(EUR)', 'price(USD)': 'price(EUR)'}, inplace=True)"
   ]
  },
  {
   "cell_type": "code",
   "execution_count": 6,
   "metadata": {},
   "outputs": [
    {
     "name": "stdout",
     "output_type": "stream",
     "text": [
      "<bound method DataFrame.info of            date  marketcap(EUR)  price(EUR)  generatedCoins  paymentCount\n",
      "3188 2017-10-02    6.347798e+10   3824.3547          1875.0      463964.0\n",
      "3189 2017-10-03    6.366776e+10   3835.3602          2287.5      440833.0\n",
      "3190 2017-10-04    6.238989e+10   3757.8519          1675.0      366423.0\n",
      "3191 2017-10-05    6.110331e+10   3679.9956          1562.5      401676.0\n",
      "3192 2017-10-06    6.247523e+10   3762.2802          1987.5      457187.0\n",
      "...         ...             ...         ...             ...           ...\n",
      "3549 2018-09-28    1.004759e+11   5810.5125          1925.0      400405.0\n",
      "3550 2018-09-29    9.995056e+10   5779.4970          1900.0      321741.0\n",
      "3551 2018-09-30    9.938390e+10   5746.0977          2037.5      308326.0\n",
      "3552 2018-10-01    9.962346e+10   5759.2695          1975.0      360525.0\n",
      "3553 2018-10-02    9.923442e+10   5736.1188          1712.5      359131.0\n",
      "\n",
      "[366 rows x 5 columns]>\n"
     ]
    }
   ],
   "source": [
    "# Verify that conversion has been done\n",
    "print(dataLY.info)"
   ]
  },
  {
   "cell_type": "markdown",
   "metadata": {},
   "source": [
    "## Output new Summary CSV file"
   ]
  },
  {
   "cell_type": "code",
   "execution_count": 7,
   "metadata": {},
   "outputs": [],
   "source": [
    "# Set column order\n",
    "columns = ['date', 'generatedCoins', 'paymentCount', 'marketcap(EUR)', 'price(EUR)']\n",
    "\n",
    "# Define path and filename of output file\n",
    "path = r'C:\\Users\\miles.hopper\\Documents\\Jupyter Notebooks\\NC\\Summary.csv'\n",
    "\n",
    "# Output dataframe to csv file\n",
    "dataLY.to_csv(path, sep=',', na_rep='', columns=columns, index=False) "
   ]
  },
  {
   "cell_type": "markdown",
   "metadata": {},
   "source": [
    "# Summary Output"
   ]
  },
  {
   "cell_type": "markdown",
   "metadata": {},
   "source": [
    "## Total coins generated in the past year"
   ]
  },
  {
   "cell_type": "code",
   "execution_count": 8,
   "metadata": {},
   "outputs": [
    {
     "name": "stdout",
     "output_type": "stream",
     "text": [
      "Total coins generated in the past year:  703231.24967671\n"
     ]
    }
   ],
   "source": [
    "# Calculate Total coins generated in the past year.\n",
    "totalCoins = dataLY['generatedCoins'].sum()\n",
    "print('Total coins generated in the past year: ', totalCoins)"
   ]
  },
  {
   "cell_type": "markdown",
   "metadata": {},
   "source": [
    "## Metrics"
   ]
  },
  {
   "cell_type": "code",
   "execution_count": 9,
   "metadata": {},
   "outputs": [
    {
     "name": "stdout",
     "output_type": "stream",
     "text": [
      "                         min           max       average\n",
      "marketcap(EUR)  6.110331e+10  2.837429e+11  1.274241e+11\n",
      "price(EUR)      3.679996e+03  1.694395e+04  7.528107e+03\n",
      "generatedCoins  1.000000e+03  2.437500e+03  1.921397e+03\n",
      "paymentCount    3.679996e+03  1.694395e+04  7.528107e+03\n"
     ]
    }
   ],
   "source": [
    "# Calculate min, max, and mean for metrics in the past year\n",
    "metrics = pd.DataFrame([\n",
    "        [dataLY['marketcap(EUR)'].min(), dataLY['marketcap(EUR)'].max(), dataLY['marketcap(EUR)'].mean()],\n",
    "        [dataLY['price(EUR)'].min(), dataLY['price(EUR)'].max(), dataLY['price(EUR)'].mean()],\n",
    "        [dataLY['generatedCoins'].min(), dataLY['generatedCoins'].max(), dataLY['generatedCoins'].mean()],\n",
    "        [dataLY['price(EUR)'].min(), dataLY['price(EUR)'].max(), dataLY['price(EUR)'].mean()]],\n",
    "        index=['marketcap(EUR)', 'price(EUR)', 'generatedCoins', 'paymentCount'],\n",
    "        columns=['min', 'max', 'average'])\n",
    "\n",
    "# Print the metrics dataframe \n",
    "print(metrics)"
   ]
  },
  {
   "cell_type": "code",
   "execution_count": 10,
   "metadata": {},
   "outputs": [],
   "source": [
    "# Output metrics dataframe as csv file\n",
    "path = r'C:\\Users\\miles.hopper\\Documents\\Jupyter Notebooks\\NC\\Summary_Metrics.csv'\n",
    "metrics.to_csv(path, sep=',', na_rep='') "
   ]
  },
  {
   "cell_type": "markdown",
   "metadata": {},
   "source": [
    "# Line Chart"
   ]
  },
  {
   "cell_type": "code",
   "execution_count": 91,
   "metadata": {},
   "outputs": [],
   "source": [
    "import datetime as dt\n",
    "import matplotlib.pyplot as plt\n",
    "import matplotlib.dates as mdates\n",
    "import matplotlib.ticker as ticker"
   ]
  },
  {
   "cell_type": "code",
   "execution_count": 92,
   "metadata": {},
   "outputs": [
    {
     "data": {
      "image/png": "[encoded data removed]",
      "text/plain": [
       "<Figure size 864x576 with 1 Axes>"
      ]
     },
     "metadata": {
      "needs_background": "light"
     },
     "output_type": "display_data"
    }
   ],
   "source": [
    "# Set figure size\n",
    "fig, ax = plt.subplots(figsize=(12,8))\n",
    "\n",
    "# Plot a line-graph of Bitcoin price in the last year\n",
    "ax.plot('date', 'price(EUR)', data=dataLY)\n",
    "\n",
    "# Label axes and add title\n",
    "ax.set_xlabel('Date')\n",
    "ax.set_ylabel('Price (EUR)')\n",
    "ax.set_title('Bitcoin Price in the Last Year')\n",
    "\n",
    "# Set x axis major ticks every month.\n",
    "fmt_half_year = mdates.MonthLocator(interval=1)\n",
    "ax.xaxis.set_major_locator(fmt_half_year)\n",
    "\n",
    "# Text in the x axis will be displayed in 'YYYY-mm' format.\n",
    "ax.xaxis.set_major_formatter(mdates.DateFormatter('%Y-%m'))\n",
    "\n",
    "# Set x axis range\n",
    "dateMin = dt.date(2017, 9, 1)\n",
    "dateMax = dt.date(2018, 11, 1)\n",
    "ax.set_xlim(dateMin, dateMax)\n",
    "\n",
    "# Set y axis minor ticks every 1000 Euros\n",
    "minticks = ticker.MultipleLocator(1000)\n",
    "ax.yaxis.set_minor_locator(minticks)\n",
    "\n",
    "# Set y axis range\n",
    "ax.set_ylim(3000, 18000)\n",
    "\n",
    "# Add gridlines\n",
    "ax.grid(True)\n",
    "\n",
    "# Rotate and right aligns the x labels, and move the bottom of the axes up to make room for them\n",
    "fig.autofmt_xdate()\n",
    "\n",
    "# Export graph as image file at 100 dpi with tightened padding\n",
    "fig.savefig('Bitcoin_Price_Last_Year.png', dpi=100, bbox_inches = 'tight', pad_inches = 0.25)\n",
    "\n",
    "# Show graph\n",
    "plt.show()"
   ]
  },
  {
   "cell_type": "code",
   "execution_count": null,
   "metadata": {},
   "outputs": [],
   "source": []
  }
 ],
 "metadata": {
  "kernelspec": {
   "display_name": "Python 3",
   "language": "python",
   "name": "python3"
  },
  "language_info": {
   "codemirror_mode": {
    "name": "ipython",
    "version": 3
   },
   "file_extension": ".py",
   "mimetype": "text/x-python",
   "name": "python",
   "nbconvert_exporter": "python",
   "pygments_lexer": "ipython3",
   "version": "3.7.6"
  }
 },
 "nbformat": 4,
 "nbformat_minor": 4
}
